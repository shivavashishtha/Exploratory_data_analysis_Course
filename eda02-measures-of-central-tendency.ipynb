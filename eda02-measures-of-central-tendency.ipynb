{
 "cells": [
  {
   "cell_type": "markdown",
   "id": "c101d973",
   "metadata": {
    "papermill": {
     "duration": 0.008157,
     "end_time": "2023-03-17T19:16:56.510958",
     "exception": false,
     "start_time": "2023-03-17T19:16:56.502801",
     "status": "completed"
    },
    "tags": []
   },
   "source": [
    "## Hello folks,This is [Shiva](https://www.linkedin.com/in/shivavashishtha/)!\n",
    "\n",
    "Data Analytics professional, Extensive experience with Excel, SQL, Python, Tableau, and Power BI, analyzing large datasets, and generating actionable insights. Exceptional problem solver and quick learner with extensive experience in a variety of data, domains, and D&A technologies. \n",
    "\n",
    "Welcome to this Notebook,This notebook is a part of our Data Orinted Program. Scrolldown the notebook to learn more about the concept. If you face any issues feel free to reach out to me over [Linkedin](https://www.linkedin.com/in/shivavashishtha/)\n",
    "\n",
    "\n",
    "<img align=\"center\" alt=\"GIF\" src=\"https://frogdesign.nyc3.cdn.digitaloceanspaces.com/wp-content/uploads/2020/08/04192430/AI_designing-with-data.gif\">\n",
    "<br>"
   ]
  },
  {
   "cell_type": "markdown",
   "id": "59b10daa",
   "metadata": {
    "papermill": {
     "duration": 0.006357,
     "end_time": "2023-03-17T19:16:56.524283",
     "exception": false,
     "start_time": "2023-03-17T19:16:56.517926",
     "status": "completed"
    },
    "tags": []
   },
   "source": [
    "<div class=\"alert alert-info\" style=\"background-color:#FFFFFF; color:#808080; padding:0px 10px; border-radius:5px;\" align=\"center\"><h1 style='margin:12px 5px'>Measures of Central Tendency</h1>\n",
    "</div>"
   ]
  },
  {
   "cell_type": "markdown",
   "id": "0f63c3b7",
   "metadata": {
    "papermill": {
     "duration": 0.006191,
     "end_time": "2023-03-17T19:16:56.537030",
     "exception": false,
     "start_time": "2023-03-17T19:16:56.530839",
     "status": "completed"
    },
    "tags": []
   },
   "source": [
    "Measures of central tendency are used in EDA (Exploratory Data Analysis) to describe the central or typical value of a data set. These measures provide a way to summarize the data and make it easier to understand.\n",
    "Here are three common measures of central tendency:\n",
    "Mean: The mean is the arithmetic average of a data set. It is calculated by adding up all the values in the data set and dividing by the total number of values. The mean is sensitive to outliers, which means that it can be influenced by extreme values in the data set.\n",
    "\n",
    "1. Median: \n",
    "The median is the middle value in a data set. To find the median, the data set is first arranged in order from smallest to largest. If there is an odd number of values in the data set, the median is the middle value. If there is an even number of values, the median is the average of the two middle values. The median is less sensitive to outliers than the mean, which makes it a better measure of the central tendency for skewed data sets.\n",
    "\n",
    "2. Mode: \n",
    "The mode is the most frequent value in a data set. It is the value that occurs with the highest frequency. A data set can have multiple modes if there are multiple values with the same frequency. The mode is useful for identifying the most common value or values in a data set.\n",
    "\n",
    "In summary, measures of central tendency provide information about the typical or central value of a data set. The mean, median, and mode are commonly used measures of central tendency, each with its own advantages and disadvantages.\n",
    "\n",
    "**Example:**\n",
    "Let's say we want to understand the typical income of employees in a company. We can use measures of central tendency to summarize the income data.\n",
    "\n",
    "For example, we can calculate the mean income by adding up all the individual salaries and dividing by the total number of employees. This will give us the average income of employees in the company.\n",
    "\n",
    "Next, we can calculate the median income by ordering all the individual salaries from lowest to highest and finding the middle value. This will give us an idea of the income level that separates the top 50% of earners from the bottom 50% of earners.\n",
    "\n",
    "Finally, we can calculate the mode income by identifying the most frequent salary in the data set. This will tell us the salary level that occurs most often among the employees in the company. By using these measures of central tendency, we can gain a better understanding of the income distribution of employees in the company and identify any outliers or anomalies in the data set.\n",
    "\n"
   ]
  },
  {
   "cell_type": "markdown",
   "id": "3d2e5c85",
   "metadata": {
    "papermill": {
     "duration": 0.006259,
     "end_time": "2023-03-17T19:16:56.549923",
     "exception": false,
     "start_time": "2023-03-17T19:16:56.543664",
     "status": "completed"
    },
    "tags": []
   },
   "source": [
    "## Importing the Libraries"
   ]
  },
  {
   "cell_type": "code",
   "execution_count": 1,
   "id": "0d0b0daf",
   "metadata": {
    "_cell_guid": "b1076dfc-b9ad-4769-8c92-a6c4dae69d19",
    "_uuid": "8f2839f25d086af736a60e9eeb907d3b93b6e0e5",
    "execution": {
     "iopub.execute_input": "2023-03-17T19:16:56.567047Z",
     "iopub.status.busy": "2023-03-17T19:16:56.565886Z",
     "iopub.status.idle": "2023-03-17T19:16:56.587533Z",
     "shell.execute_reply": "2023-03-17T19:16:56.586121Z"
    },
    "papermill": {
     "duration": 0.035005,
     "end_time": "2023-03-17T19:16:56.591451",
     "exception": false,
     "start_time": "2023-03-17T19:16:56.556446",
     "status": "completed"
    },
    "tags": []
   },
   "outputs": [
    {
     "name": "stdout",
     "output_type": "stream",
     "text": [
      "/kaggle/input/iris/Iris.csv\n",
      "/kaggle/input/iris/database.sqlite\n"
     ]
    }
   ],
   "source": [
    "# This Python 3 environment comes with many helpful analytics libraries installed\n",
    "# It is defined by the kaggle/python Docker image: https://github.com/kaggle/docker-python\n",
    "# For example, here's several helpful packages to load\n",
    "\n",
    "import numpy as np # linear algebra\n",
    "import pandas as pd # data processing, CSV file I/O (e.g. pd.read_csv)\n",
    "\n",
    "# Input data files are available in the read-only \"../input/\" directory\n",
    "# For example, running this (by clicking run or pressing Shift+Enter) will list all files under the input directory\n",
    "\n",
    "import os\n",
    "for dirname, _, filenames in os.walk('/kaggle/input'):\n",
    "    for filename in filenames:\n",
    "        print(os.path.join(dirname, filename))\n",
    "\n",
    "# You can write up to 20GB to the current directory (/kaggle/working/) that gets preserved as output when you create a version using \"Save & Run All\" \n",
    "# You can also write temporary files to /kaggle/temp/, but they won't be saved outside of the current session"
   ]
  },
  {
   "cell_type": "markdown",
   "id": "14e7e2bf",
   "metadata": {
    "papermill": {
     "duration": 0.00695,
     "end_time": "2023-03-17T19:16:56.606437",
     "exception": false,
     "start_time": "2023-03-17T19:16:56.599487",
     "status": "completed"
    },
    "tags": []
   },
   "source": [
    "## Reading the Data"
   ]
  },
  {
   "cell_type": "code",
   "execution_count": 2,
   "id": "9ad4cba4",
   "metadata": {
    "execution": {
     "iopub.execute_input": "2023-03-17T19:16:56.623419Z",
     "iopub.status.busy": "2023-03-17T19:16:56.622420Z",
     "iopub.status.idle": "2023-03-17T19:16:56.638931Z",
     "shell.execute_reply": "2023-03-17T19:16:56.637895Z"
    },
    "papermill": {
     "duration": 0.028766,
     "end_time": "2023-03-17T19:16:56.642193",
     "exception": false,
     "start_time": "2023-03-17T19:16:56.613427",
     "status": "completed"
    },
    "tags": []
   },
   "outputs": [],
   "source": [
    "df=pd.read_csv(\"/kaggle/input/iris/Iris.csv\")"
   ]
  },
  {
   "cell_type": "markdown",
   "id": "abea2449",
   "metadata": {
    "papermill": {
     "duration": 0.006775,
     "end_time": "2023-03-17T19:16:56.656227",
     "exception": false,
     "start_time": "2023-03-17T19:16:56.649452",
     "status": "completed"
    },
    "tags": []
   },
   "source": [
    "## Checking the Data"
   ]
  },
  {
   "cell_type": "code",
   "execution_count": 3,
   "id": "2267a9e9",
   "metadata": {
    "execution": {
     "iopub.execute_input": "2023-03-17T19:16:56.673243Z",
     "iopub.status.busy": "2023-03-17T19:16:56.672259Z",
     "iopub.status.idle": "2023-03-17T19:16:56.712724Z",
     "shell.execute_reply": "2023-03-17T19:16:56.711282Z"
    },
    "papermill": {
     "duration": 0.052553,
     "end_time": "2023-03-17T19:16:56.715775",
     "exception": false,
     "start_time": "2023-03-17T19:16:56.663222",
     "status": "completed"
    },
    "tags": []
   },
   "outputs": [
    {
     "data": {
      "text/html": [
       "<div>\n",
       "<style scoped>\n",
       "    .dataframe tbody tr th:only-of-type {\n",
       "        vertical-align: middle;\n",
       "    }\n",
       "\n",
       "    .dataframe tbody tr th {\n",
       "        vertical-align: top;\n",
       "    }\n",
       "\n",
       "    .dataframe thead th {\n",
       "        text-align: right;\n",
       "    }\n",
       "</style>\n",
       "<table border=\"1\" class=\"dataframe\">\n",
       "  <thead>\n",
       "    <tr style=\"text-align: right;\">\n",
       "      <th></th>\n",
       "      <th>Id</th>\n",
       "      <th>SepalLengthCm</th>\n",
       "      <th>SepalWidthCm</th>\n",
       "      <th>PetalLengthCm</th>\n",
       "      <th>PetalWidthCm</th>\n",
       "      <th>Species</th>\n",
       "    </tr>\n",
       "  </thead>\n",
       "  <tbody>\n",
       "    <tr>\n",
       "      <th>0</th>\n",
       "      <td>1</td>\n",
       "      <td>5.1</td>\n",
       "      <td>3.5</td>\n",
       "      <td>1.4</td>\n",
       "      <td>0.2</td>\n",
       "      <td>Iris-setosa</td>\n",
       "    </tr>\n",
       "    <tr>\n",
       "      <th>1</th>\n",
       "      <td>2</td>\n",
       "      <td>4.9</td>\n",
       "      <td>3.0</td>\n",
       "      <td>1.4</td>\n",
       "      <td>0.2</td>\n",
       "      <td>Iris-setosa</td>\n",
       "    </tr>\n",
       "    <tr>\n",
       "      <th>2</th>\n",
       "      <td>3</td>\n",
       "      <td>4.7</td>\n",
       "      <td>3.2</td>\n",
       "      <td>1.3</td>\n",
       "      <td>0.2</td>\n",
       "      <td>Iris-setosa</td>\n",
       "    </tr>\n",
       "    <tr>\n",
       "      <th>3</th>\n",
       "      <td>4</td>\n",
       "      <td>4.6</td>\n",
       "      <td>3.1</td>\n",
       "      <td>1.5</td>\n",
       "      <td>0.2</td>\n",
       "      <td>Iris-setosa</td>\n",
       "    </tr>\n",
       "    <tr>\n",
       "      <th>4</th>\n",
       "      <td>5</td>\n",
       "      <td>5.0</td>\n",
       "      <td>3.6</td>\n",
       "      <td>1.4</td>\n",
       "      <td>0.2</td>\n",
       "      <td>Iris-setosa</td>\n",
       "    </tr>\n",
       "    <tr>\n",
       "      <th>...</th>\n",
       "      <td>...</td>\n",
       "      <td>...</td>\n",
       "      <td>...</td>\n",
       "      <td>...</td>\n",
       "      <td>...</td>\n",
       "      <td>...</td>\n",
       "    </tr>\n",
       "    <tr>\n",
       "      <th>145</th>\n",
       "      <td>146</td>\n",
       "      <td>6.7</td>\n",
       "      <td>3.0</td>\n",
       "      <td>5.2</td>\n",
       "      <td>2.3</td>\n",
       "      <td>Iris-virginica</td>\n",
       "    </tr>\n",
       "    <tr>\n",
       "      <th>146</th>\n",
       "      <td>147</td>\n",
       "      <td>6.3</td>\n",
       "      <td>2.5</td>\n",
       "      <td>5.0</td>\n",
       "      <td>1.9</td>\n",
       "      <td>Iris-virginica</td>\n",
       "    </tr>\n",
       "    <tr>\n",
       "      <th>147</th>\n",
       "      <td>148</td>\n",
       "      <td>6.5</td>\n",
       "      <td>3.0</td>\n",
       "      <td>5.2</td>\n",
       "      <td>2.0</td>\n",
       "      <td>Iris-virginica</td>\n",
       "    </tr>\n",
       "    <tr>\n",
       "      <th>148</th>\n",
       "      <td>149</td>\n",
       "      <td>6.2</td>\n",
       "      <td>3.4</td>\n",
       "      <td>5.4</td>\n",
       "      <td>2.3</td>\n",
       "      <td>Iris-virginica</td>\n",
       "    </tr>\n",
       "    <tr>\n",
       "      <th>149</th>\n",
       "      <td>150</td>\n",
       "      <td>5.9</td>\n",
       "      <td>3.0</td>\n",
       "      <td>5.1</td>\n",
       "      <td>1.8</td>\n",
       "      <td>Iris-virginica</td>\n",
       "    </tr>\n",
       "  </tbody>\n",
       "</table>\n",
       "<p>150 rows × 6 columns</p>\n",
       "</div>"
      ],
      "text/plain": [
       "      Id  SepalLengthCm  SepalWidthCm  PetalLengthCm  PetalWidthCm  \\\n",
       "0      1            5.1           3.5            1.4           0.2   \n",
       "1      2            4.9           3.0            1.4           0.2   \n",
       "2      3            4.7           3.2            1.3           0.2   \n",
       "3      4            4.6           3.1            1.5           0.2   \n",
       "4      5            5.0           3.6            1.4           0.2   \n",
       "..   ...            ...           ...            ...           ...   \n",
       "145  146            6.7           3.0            5.2           2.3   \n",
       "146  147            6.3           2.5            5.0           1.9   \n",
       "147  148            6.5           3.0            5.2           2.0   \n",
       "148  149            6.2           3.4            5.4           2.3   \n",
       "149  150            5.9           3.0            5.1           1.8   \n",
       "\n",
       "            Species  \n",
       "0       Iris-setosa  \n",
       "1       Iris-setosa  \n",
       "2       Iris-setosa  \n",
       "3       Iris-setosa  \n",
       "4       Iris-setosa  \n",
       "..              ...  \n",
       "145  Iris-virginica  \n",
       "146  Iris-virginica  \n",
       "147  Iris-virginica  \n",
       "148  Iris-virginica  \n",
       "149  Iris-virginica  \n",
       "\n",
       "[150 rows x 6 columns]"
      ]
     },
     "execution_count": 3,
     "metadata": {},
     "output_type": "execute_result"
    }
   ],
   "source": [
    "df"
   ]
  },
  {
   "cell_type": "markdown",
   "id": "901bb157",
   "metadata": {
    "papermill": {
     "duration": 0.006945,
     "end_time": "2023-03-17T19:16:56.730081",
     "exception": false,
     "start_time": "2023-03-17T19:16:56.723136",
     "status": "completed"
    },
    "tags": []
   },
   "source": [
    "## Checking the Shape of the Data"
   ]
  },
  {
   "cell_type": "code",
   "execution_count": 4,
   "id": "39acdd6f",
   "metadata": {
    "execution": {
     "iopub.execute_input": "2023-03-17T19:16:56.749098Z",
     "iopub.status.busy": "2023-03-17T19:16:56.748083Z",
     "iopub.status.idle": "2023-03-17T19:16:56.756414Z",
     "shell.execute_reply": "2023-03-17T19:16:56.755063Z"
    },
    "papermill": {
     "duration": 0.021877,
     "end_time": "2023-03-17T19:16:56.759267",
     "exception": false,
     "start_time": "2023-03-17T19:16:56.737390",
     "status": "completed"
    },
    "tags": []
   },
   "outputs": [
    {
     "data": {
      "text/plain": [
       "(150, 6)"
      ]
     },
     "execution_count": 4,
     "metadata": {},
     "output_type": "execute_result"
    }
   ],
   "source": [
    "df.shape"
   ]
  },
  {
   "cell_type": "markdown",
   "id": "62beb92b",
   "metadata": {
    "execution": {
     "iopub.execute_input": "2023-03-17T19:11:03.861657Z",
     "iopub.status.busy": "2023-03-17T19:11:03.861254Z",
     "iopub.status.idle": "2023-03-17T19:11:03.869446Z",
     "shell.execute_reply": "2023-03-17T19:11:03.867660Z",
     "shell.execute_reply.started": "2023-03-17T19:11:03.861623Z"
    },
    "papermill": {
     "duration": 0.008124,
     "end_time": "2023-03-17T19:16:56.775154",
     "exception": false,
     "start_time": "2023-03-17T19:16:56.767030",
     "status": "completed"
    },
    "tags": []
   },
   "source": [
    "The Dataset have 150 rows and 6 columns "
   ]
  },
  {
   "cell_type": "markdown",
   "id": "a6114dab",
   "metadata": {
    "papermill": {
     "duration": 0.007269,
     "end_time": "2023-03-17T19:16:56.790022",
     "exception": false,
     "start_time": "2023-03-17T19:16:56.782753",
     "status": "completed"
    },
    "tags": []
   },
   "source": [
    "## Checking the info of the Data"
   ]
  },
  {
   "cell_type": "code",
   "execution_count": 5,
   "id": "22e03a5d",
   "metadata": {
    "execution": {
     "iopub.execute_input": "2023-03-17T19:16:56.809026Z",
     "iopub.status.busy": "2023-03-17T19:16:56.808465Z",
     "iopub.status.idle": "2023-03-17T19:16:56.838599Z",
     "shell.execute_reply": "2023-03-17T19:16:56.837147Z"
    },
    "papermill": {
     "duration": 0.044579,
     "end_time": "2023-03-17T19:16:56.843029",
     "exception": false,
     "start_time": "2023-03-17T19:16:56.798450",
     "status": "completed"
    },
    "tags": []
   },
   "outputs": [
    {
     "name": "stdout",
     "output_type": "stream",
     "text": [
      "<class 'pandas.core.frame.DataFrame'>\n",
      "RangeIndex: 150 entries, 0 to 149\n",
      "Data columns (total 6 columns):\n",
      " #   Column         Non-Null Count  Dtype  \n",
      "---  ------         --------------  -----  \n",
      " 0   Id             150 non-null    int64  \n",
      " 1   SepalLengthCm  150 non-null    float64\n",
      " 2   SepalWidthCm   150 non-null    float64\n",
      " 3   PetalLengthCm  150 non-null    float64\n",
      " 4   PetalWidthCm   150 non-null    float64\n",
      " 5   Species        150 non-null    object \n",
      "dtypes: float64(4), int64(1), object(1)\n",
      "memory usage: 7.2+ KB\n"
     ]
    }
   ],
   "source": [
    "df.info()"
   ]
  },
  {
   "cell_type": "markdown",
   "id": "1daadb00",
   "metadata": {
    "papermill": {
     "duration": 0.007734,
     "end_time": "2023-03-17T19:16:56.858227",
     "exception": false,
     "start_time": "2023-03-17T19:16:56.850493",
     "status": "completed"
    },
    "tags": []
   },
   "source": [
    "This info analysis generally helps us in undestanding 3 major point. The index range, DataTypes of Features and Memory Usage of Data"
   ]
  },
  {
   "cell_type": "markdown",
   "id": "33dc9b15",
   "metadata": {
    "papermill": {
     "duration": 0.006963,
     "end_time": "2023-03-17T19:16:56.872664",
     "exception": false,
     "start_time": "2023-03-17T19:16:56.865701",
     "status": "completed"
    },
    "tags": []
   },
   "source": [
    "## Checking the Describe feature"
   ]
  },
  {
   "cell_type": "code",
   "execution_count": 6,
   "id": "fcf01f19",
   "metadata": {
    "execution": {
     "iopub.execute_input": "2023-03-17T19:16:56.891834Z",
     "iopub.status.busy": "2023-03-17T19:16:56.890814Z",
     "iopub.status.idle": "2023-03-17T19:16:56.923955Z",
     "shell.execute_reply": "2023-03-17T19:16:56.922477Z"
    },
    "papermill": {
     "duration": 0.046321,
     "end_time": "2023-03-17T19:16:56.926967",
     "exception": false,
     "start_time": "2023-03-17T19:16:56.880646",
     "status": "completed"
    },
    "tags": []
   },
   "outputs": [
    {
     "data": {
      "text/html": [
       "<div>\n",
       "<style scoped>\n",
       "    .dataframe tbody tr th:only-of-type {\n",
       "        vertical-align: middle;\n",
       "    }\n",
       "\n",
       "    .dataframe tbody tr th {\n",
       "        vertical-align: top;\n",
       "    }\n",
       "\n",
       "    .dataframe thead th {\n",
       "        text-align: right;\n",
       "    }\n",
       "</style>\n",
       "<table border=\"1\" class=\"dataframe\">\n",
       "  <thead>\n",
       "    <tr style=\"text-align: right;\">\n",
       "      <th></th>\n",
       "      <th>Id</th>\n",
       "      <th>SepalLengthCm</th>\n",
       "      <th>SepalWidthCm</th>\n",
       "      <th>PetalLengthCm</th>\n",
       "      <th>PetalWidthCm</th>\n",
       "    </tr>\n",
       "  </thead>\n",
       "  <tbody>\n",
       "    <tr>\n",
       "      <th>count</th>\n",
       "      <td>150.000000</td>\n",
       "      <td>150.000000</td>\n",
       "      <td>150.000000</td>\n",
       "      <td>150.000000</td>\n",
       "      <td>150.000000</td>\n",
       "    </tr>\n",
       "    <tr>\n",
       "      <th>mean</th>\n",
       "      <td>75.500000</td>\n",
       "      <td>5.843333</td>\n",
       "      <td>3.054000</td>\n",
       "      <td>3.758667</td>\n",
       "      <td>1.198667</td>\n",
       "    </tr>\n",
       "    <tr>\n",
       "      <th>std</th>\n",
       "      <td>43.445368</td>\n",
       "      <td>0.828066</td>\n",
       "      <td>0.433594</td>\n",
       "      <td>1.764420</td>\n",
       "      <td>0.763161</td>\n",
       "    </tr>\n",
       "    <tr>\n",
       "      <th>min</th>\n",
       "      <td>1.000000</td>\n",
       "      <td>4.300000</td>\n",
       "      <td>2.000000</td>\n",
       "      <td>1.000000</td>\n",
       "      <td>0.100000</td>\n",
       "    </tr>\n",
       "    <tr>\n",
       "      <th>25%</th>\n",
       "      <td>38.250000</td>\n",
       "      <td>5.100000</td>\n",
       "      <td>2.800000</td>\n",
       "      <td>1.600000</td>\n",
       "      <td>0.300000</td>\n",
       "    </tr>\n",
       "    <tr>\n",
       "      <th>50%</th>\n",
       "      <td>75.500000</td>\n",
       "      <td>5.800000</td>\n",
       "      <td>3.000000</td>\n",
       "      <td>4.350000</td>\n",
       "      <td>1.300000</td>\n",
       "    </tr>\n",
       "    <tr>\n",
       "      <th>75%</th>\n",
       "      <td>112.750000</td>\n",
       "      <td>6.400000</td>\n",
       "      <td>3.300000</td>\n",
       "      <td>5.100000</td>\n",
       "      <td>1.800000</td>\n",
       "    </tr>\n",
       "    <tr>\n",
       "      <th>max</th>\n",
       "      <td>150.000000</td>\n",
       "      <td>7.900000</td>\n",
       "      <td>4.400000</td>\n",
       "      <td>6.900000</td>\n",
       "      <td>2.500000</td>\n",
       "    </tr>\n",
       "  </tbody>\n",
       "</table>\n",
       "</div>"
      ],
      "text/plain": [
       "               Id  SepalLengthCm  SepalWidthCm  PetalLengthCm  PetalWidthCm\n",
       "count  150.000000     150.000000    150.000000     150.000000    150.000000\n",
       "mean    75.500000       5.843333      3.054000       3.758667      1.198667\n",
       "std     43.445368       0.828066      0.433594       1.764420      0.763161\n",
       "min      1.000000       4.300000      2.000000       1.000000      0.100000\n",
       "25%     38.250000       5.100000      2.800000       1.600000      0.300000\n",
       "50%     75.500000       5.800000      3.000000       4.350000      1.300000\n",
       "75%    112.750000       6.400000      3.300000       5.100000      1.800000\n",
       "max    150.000000       7.900000      4.400000       6.900000      2.500000"
      ]
     },
     "execution_count": 6,
     "metadata": {},
     "output_type": "execute_result"
    }
   ],
   "source": [
    "df.describe()"
   ]
  },
  {
   "cell_type": "markdown",
   "id": "94755572",
   "metadata": {
    "papermill": {
     "duration": 0.007345,
     "end_time": "2023-03-17T19:16:56.942252",
     "exception": false,
     "start_time": "2023-03-17T19:16:56.934907",
     "status": "completed"
    },
    "tags": []
   },
   "source": [
    "## Calculating the Mean"
   ]
  },
  {
   "cell_type": "code",
   "execution_count": 7,
   "id": "2fc8886b",
   "metadata": {
    "execution": {
     "iopub.execute_input": "2023-03-17T19:16:56.960818Z",
     "iopub.status.busy": "2023-03-17T19:16:56.960051Z",
     "iopub.status.idle": "2023-03-17T19:16:56.966737Z",
     "shell.execute_reply": "2023-03-17T19:16:56.965833Z"
    },
    "papermill": {
     "duration": 0.019181,
     "end_time": "2023-03-17T19:16:56.969246",
     "exception": false,
     "start_time": "2023-03-17T19:16:56.950065",
     "status": "completed"
    },
    "tags": []
   },
   "outputs": [
    {
     "data": {
      "text/plain": [
       "Index(['Id', 'SepalLengthCm', 'SepalWidthCm', 'PetalLengthCm', 'PetalWidthCm',\n",
       "       'Species'],\n",
       "      dtype='object')"
      ]
     },
     "execution_count": 7,
     "metadata": {},
     "output_type": "execute_result"
    }
   ],
   "source": [
    "df.columns"
   ]
  },
  {
   "cell_type": "code",
   "execution_count": 8,
   "id": "e8eb393b",
   "metadata": {
    "execution": {
     "iopub.execute_input": "2023-03-17T19:16:56.988152Z",
     "iopub.status.busy": "2023-03-17T19:16:56.987344Z",
     "iopub.status.idle": "2023-03-17T19:16:56.994553Z",
     "shell.execute_reply": "2023-03-17T19:16:56.993507Z"
    },
    "papermill": {
     "duration": 0.019771,
     "end_time": "2023-03-17T19:16:56.996814",
     "exception": false,
     "start_time": "2023-03-17T19:16:56.977043",
     "status": "completed"
    },
    "tags": []
   },
   "outputs": [
    {
     "data": {
      "text/plain": [
       "5.843333333333334"
      ]
     },
     "execution_count": 8,
     "metadata": {},
     "output_type": "execute_result"
    }
   ],
   "source": [
    "df.SepalLengthCm.mean()"
   ]
  },
  {
   "cell_type": "code",
   "execution_count": 9,
   "id": "842967be",
   "metadata": {
    "execution": {
     "iopub.execute_input": "2023-03-17T19:16:57.015876Z",
     "iopub.status.busy": "2023-03-17T19:16:57.015065Z",
     "iopub.status.idle": "2023-03-17T19:16:57.022453Z",
     "shell.execute_reply": "2023-03-17T19:16:57.021131Z"
    },
    "papermill": {
     "duration": 0.01988,
     "end_time": "2023-03-17T19:16:57.024913",
     "exception": false,
     "start_time": "2023-03-17T19:16:57.005033",
     "status": "completed"
    },
    "tags": []
   },
   "outputs": [
    {
     "data": {
      "text/plain": [
       "5.843333333333334"
      ]
     },
     "execution_count": 9,
     "metadata": {},
     "output_type": "execute_result"
    }
   ],
   "source": [
    "df[\"SepalLengthCm\"].mean()"
   ]
  },
  {
   "cell_type": "code",
   "execution_count": 10,
   "id": "ae03d5dc",
   "metadata": {
    "execution": {
     "iopub.execute_input": "2023-03-17T19:16:57.044736Z",
     "iopub.status.busy": "2023-03-17T19:16:57.043727Z",
     "iopub.status.idle": "2023-03-17T19:16:57.052001Z",
     "shell.execute_reply": "2023-03-17T19:16:57.050828Z"
    },
    "papermill": {
     "duration": 0.021002,
     "end_time": "2023-03-17T19:16:57.054500",
     "exception": false,
     "start_time": "2023-03-17T19:16:57.033498",
     "status": "completed"
    },
    "tags": []
   },
   "outputs": [
    {
     "data": {
      "text/plain": [
       "5.8"
      ]
     },
     "execution_count": 10,
     "metadata": {},
     "output_type": "execute_result"
    }
   ],
   "source": [
    "df.SepalLengthCm.median()"
   ]
  },
  {
   "cell_type": "code",
   "execution_count": 11,
   "id": "8c9ff863",
   "metadata": {
    "execution": {
     "iopub.execute_input": "2023-03-17T19:16:57.073588Z",
     "iopub.status.busy": "2023-03-17T19:16:57.073062Z",
     "iopub.status.idle": "2023-03-17T19:16:57.084942Z",
     "shell.execute_reply": "2023-03-17T19:16:57.083583Z"
    },
    "papermill": {
     "duration": 0.024796,
     "end_time": "2023-03-17T19:16:57.087503",
     "exception": false,
     "start_time": "2023-03-17T19:16:57.062707",
     "status": "completed"
    },
    "tags": []
   },
   "outputs": [
    {
     "data": {
      "text/plain": [
       "0    5.0\n",
       "dtype: float64"
      ]
     },
     "execution_count": 11,
     "metadata": {},
     "output_type": "execute_result"
    }
   ],
   "source": [
    "df.SepalLengthCm.mode()"
   ]
  },
  {
   "cell_type": "markdown",
   "id": "bd6dbfe3",
   "metadata": {
    "papermill": {
     "duration": 0.007969,
     "end_time": "2023-03-17T19:16:57.104030",
     "exception": false,
     "start_time": "2023-03-17T19:16:57.096061",
     "status": "completed"
    },
    "tags": []
   },
   "source": [
    "## Calculating Mean from Scratch"
   ]
  },
  {
   "cell_type": "code",
   "execution_count": 12,
   "id": "243e2fb2",
   "metadata": {
    "execution": {
     "iopub.execute_input": "2023-03-17T19:16:57.123720Z",
     "iopub.status.busy": "2023-03-17T19:16:57.122957Z",
     "iopub.status.idle": "2023-03-17T19:16:57.130542Z",
     "shell.execute_reply": "2023-03-17T19:16:57.128853Z"
    },
    "papermill": {
     "duration": 0.021397,
     "end_time": "2023-03-17T19:16:57.133673",
     "exception": false,
     "start_time": "2023-03-17T19:16:57.112276",
     "status": "completed"
    },
    "tags": []
   },
   "outputs": [
    {
     "name": "stdout",
     "output_type": "stream",
     "text": [
      "Mean :  5.843333333333334\n"
     ]
    }
   ],
   "source": [
    "#calculating sum of all the values present in the column\n",
    "sum_values = df['SepalLengthCm'].sum()\n",
    "\n",
    "#checking the number of rows or values\n",
    "n_values = df['SepalLengthCm'].shape[0]\n",
    "\n",
    "#simply diving the sum by number of values \n",
    "mean_value = sum_values/n_values\n",
    "\n",
    "#printing the final result\n",
    "print(\"Mean : \", mean_value)"
   ]
  },
  {
   "cell_type": "markdown",
   "id": "7ff6af8e",
   "metadata": {
    "papermill": {
     "duration": 0.007845,
     "end_time": "2023-03-17T19:16:57.150164",
     "exception": false,
     "start_time": "2023-03-17T19:16:57.142319",
     "status": "completed"
    },
    "tags": []
   },
   "source": [
    "## Calculating Median from Scratch"
   ]
  },
  {
   "cell_type": "markdown",
   "id": "7e3d96e6",
   "metadata": {
    "papermill": {
     "duration": 0.00807,
     "end_time": "2023-03-17T19:16:57.166523",
     "exception": false,
     "start_time": "2023-03-17T19:16:57.158453",
     "status": "completed"
    },
    "tags": []
   },
   "source": [
    "So, As we know that the median is nothing but the middle value of Data when the Dataset is arranged in ascending or descending order"
   ]
  },
  {
   "cell_type": "code",
   "execution_count": 13,
   "id": "8b5aa1e3",
   "metadata": {
    "execution": {
     "iopub.execute_input": "2023-03-17T19:16:57.185524Z",
     "iopub.status.busy": "2023-03-17T19:16:57.184987Z",
     "iopub.status.idle": "2023-03-17T19:16:57.195378Z",
     "shell.execute_reply": "2023-03-17T19:16:57.193694Z"
    },
    "papermill": {
     "duration": 0.023001,
     "end_time": "2023-03-17T19:16:57.197779",
     "exception": false,
     "start_time": "2023-03-17T19:16:57.174778",
     "status": "completed"
    },
    "tags": []
   },
   "outputs": [
    {
     "name": "stdout",
     "output_type": "stream",
     "text": [
      "Mean :  5.8\n"
     ]
    }
   ],
   "source": [
    "# calculate median from scratch\n",
    "ordered_values = df['SepalLengthCm'].sort_values().reset_index(drop = True)\n",
    "n_values = df['SepalLengthCm'].shape[0]\n",
    "\n",
    "if n_values % 2 == 0:\n",
    "    median1 = ordered_values[n_values//2]\n",
    "    median2 = ordered_values[n_values//2 - 1]\n",
    "    median_value = (median1 + median2)/2\n",
    "else:\n",
    "    median_value = ordered_values[n_values//2]\n",
    "\n",
    "print(\"Mean : \", median_value)"
   ]
  },
  {
   "cell_type": "markdown",
   "id": "40a48eb5",
   "metadata": {
    "papermill": {
     "duration": 0.00793,
     "end_time": "2023-03-17T19:16:57.214075",
     "exception": false,
     "start_time": "2023-03-17T19:16:57.206145",
     "status": "completed"
    },
    "tags": []
   },
   "source": [
    "## Calculating Mode from Scratch"
   ]
  },
  {
   "cell_type": "code",
   "execution_count": 14,
   "id": "ba859378",
   "metadata": {
    "execution": {
     "iopub.execute_input": "2023-03-17T19:16:57.233157Z",
     "iopub.status.busy": "2023-03-17T19:16:57.232623Z",
     "iopub.status.idle": "2023-03-17T19:16:57.240819Z",
     "shell.execute_reply": "2023-03-17T19:16:57.239093Z"
    },
    "papermill": {
     "duration": 0.021899,
     "end_time": "2023-03-17T19:16:57.244241",
     "exception": false,
     "start_time": "2023-03-17T19:16:57.222342",
     "status": "completed"
    },
    "tags": []
   },
   "outputs": [
    {
     "name": "stdout",
     "output_type": "stream",
     "text": [
      "Mode :  10\n"
     ]
    }
   ],
   "source": [
    "mode_value = df['SepalLengthCm'].value_counts().to_list()[0]\n",
    "print(\"Mode : \", mode_value)"
   ]
  }
 ],
 "metadata": {
  "kernelspec": {
   "display_name": "Python 3",
   "language": "python",
   "name": "python3"
  },
  "language_info": {
   "codemirror_mode": {
    "name": "ipython",
    "version": 3
   },
   "file_extension": ".py",
   "mimetype": "text/x-python",
   "name": "python",
   "nbconvert_exporter": "python",
   "pygments_lexer": "ipython3",
   "version": "3.7.12"
  },
  "papermill": {
   "default_parameters": {},
   "duration": 13.380265,
   "end_time": "2023-03-17T19:16:58.280585",
   "environment_variables": {},
   "exception": null,
   "input_path": "__notebook__.ipynb",
   "output_path": "__notebook__.ipynb",
   "parameters": {},
   "start_time": "2023-03-17T19:16:44.900320",
   "version": "2.4.0"
  }
 },
 "nbformat": 4,
 "nbformat_minor": 5
}
