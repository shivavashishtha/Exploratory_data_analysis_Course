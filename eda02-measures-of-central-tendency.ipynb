{
 "cells": [
  {
   "cell_type": "markdown",
   "id": "6106ffe0",
   "metadata": {
    "papermill": {
     "duration": 0.007743,
     "end_time": "2023-03-17T19:32:36.118854",
     "exception": false,
     "start_time": "2023-03-17T19:32:36.111111",
     "status": "completed"
    },
    "tags": []
   },
   "source": [
    "## Hello folks,This is [Shiva](https://www.linkedin.com/in/shivavashishtha/)!\n",
    "\n",
    "Data Analytics professional, Extensive experience with Excel, SQL, Python, Tableau, and Power BI, analyzing large datasets, and generating actionable insights. Exceptional problem solver and quick learner with extensive experience in a variety of data, domains, and D&A technologies. \n",
    "\n",
    "Welcome to this Notebook,This notebook is a part of our Data Orinted Program. Scrolldown the notebook to learn more about the concept. If you face any issues feel free to reach out to me\n",
    "### Connect with me:\n",
    "[<img align=\"left\" alt=\"shivavashishtha | Kaggle\" width=\"40px\" src=\"https://cdn4.iconfinder.com/data/icons/logos-and-brands/512/189_Kaggle_logo_logos-512.png\" width=40px height=40px />][Kaggle]\n",
    "[<img align=\"left\" alt=\"shivavashishtha | LinkedIn\" width=\"40px\" src=\"https://i.imgur.com/kF9HMpz.png\" width=40px height=40px/>][linkedin]\n",
    "\n",
    "\n",
    "[linkedin]: https://www.linkedin.com/in/shivavashishtha/\n",
    "[Kaggle]: https://www.kaggle.com/shivavashishtha\n",
    "\n",
    "\n",
    "\n",
    "<img align=\"center\" alt=\"GIF\" src=\"https://frogdesign.nyc3.cdn.digitaloceanspaces.com/wp-content/uploads/2020/08/04192430/AI_designing-with-data.gif\">\n",
    "<br>\n",
    "\n"
   ]
  },
  {
   "cell_type": "markdown",
   "id": "80e6c92f",
   "metadata": {
    "papermill": {
     "duration": 0.006182,
     "end_time": "2023-03-17T19:32:36.131770",
     "exception": false,
     "start_time": "2023-03-17T19:32:36.125588",
     "status": "completed"
    },
    "tags": []
   },
   "source": [
    "<div class=\"alert alert-info\" style=\"background-color:#FFFFFF; color:#808080; padding:0px 10px; border-radius:5px;\" align=\"center\"><h1 style='margin:12px 5px'>Measures of Central Tendency</h1>\n",
    "</div>"
   ]
  },
  {
   "cell_type": "markdown",
   "id": "d9482013",
   "metadata": {
    "papermill": {
     "duration": 0.006102,
     "end_time": "2023-03-17T19:32:36.144335",
     "exception": false,
     "start_time": "2023-03-17T19:32:36.138233",
     "status": "completed"
    },
    "tags": []
   },
   "source": [
    "Measures of central tendency are used in EDA (Exploratory Data Analysis) to describe the central or typical value of a data set. These measures provide a way to summarize the data and make it easier to understand.\n",
    "Here are three common measures of central tendency:\n",
    "Mean: The mean is the arithmetic average of a data set. It is calculated by adding up all the values in the data set and dividing by the total number of values. The mean is sensitive to outliers, which means that it can be influenced by extreme values in the data set.\n",
    "\n",
    "1. Median: \n",
    "The median is the middle value in a data set. To find the median, the data set is first arranged in order from smallest to largest. If there is an odd number of values in the data set, the median is the middle value. If there is an even number of values, the median is the average of the two middle values. The median is less sensitive to outliers than the mean, which makes it a better measure of the central tendency for skewed data sets.\n",
    "\n",
    "2. Mode: \n",
    "The mode is the most frequent value in a data set. It is the value that occurs with the highest frequency. A data set can have multiple modes if there are multiple values with the same frequency. The mode is useful for identifying the most common value or values in a data set.\n",
    "\n",
    "In summary, measures of central tendency provide information about the typical or central value of a data set. The mean, median, and mode are commonly used measures of central tendency, each with its own advantages and disadvantages.\n",
    "\n",
    "**Example:**\n",
    "Let's say we want to understand the typical income of employees in a company. We can use measures of central tendency to summarize the income data.\n",
    "\n",
    "For example, we can calculate the mean income by adding up all the individual salaries and dividing by the total number of employees. This will give us the average income of employees in the company.\n",
    "\n",
    "Next, we can calculate the median income by ordering all the individual salaries from lowest to highest and finding the middle value. This will give us an idea of the income level that separates the top 50% of earners from the bottom 50% of earners.\n",
    "\n",
    "Finally, we can calculate the mode income by identifying the most frequent salary in the data set. This will tell us the salary level that occurs most often among the employees in the company. By using these measures of central tendency, we can gain a better understanding of the income distribution of employees in the company and identify any outliers or anomalies in the data set.\n",
    "\n"
   ]
  },
  {
   "cell_type": "markdown",
   "id": "56fccb70",
   "metadata": {
    "papermill": {
     "duration": 0.00638,
     "end_time": "2023-03-17T19:32:36.157176",
     "exception": false,
     "start_time": "2023-03-17T19:32:36.150796",
     "status": "completed"
    },
    "tags": []
   },
   "source": [
    "## Importing the Libraries"
   ]
  },
  {
   "cell_type": "code",
   "execution_count": 1,
   "id": "43192f10",
   "metadata": {
    "_cell_guid": "b1076dfc-b9ad-4769-8c92-a6c4dae69d19",
    "_uuid": "8f2839f25d086af736a60e9eeb907d3b93b6e0e5",
    "execution": {
     "iopub.execute_input": "2023-03-17T19:32:36.172800Z",
     "iopub.status.busy": "2023-03-17T19:32:36.172052Z",
     "iopub.status.idle": "2023-03-17T19:32:36.188937Z",
     "shell.execute_reply": "2023-03-17T19:32:36.187882Z"
    },
    "papermill": {
     "duration": 0.027938,
     "end_time": "2023-03-17T19:32:36.191645",
     "exception": false,
     "start_time": "2023-03-17T19:32:36.163707",
     "status": "completed"
    },
    "tags": []
   },
   "outputs": [
    {
     "name": "stdout",
     "output_type": "stream",
     "text": [
      "/kaggle/input/iris/Iris.csv\n",
      "/kaggle/input/iris/database.sqlite\n"
     ]
    }
   ],
   "source": [
    "# This Python 3 environment comes with many helpful analytics libraries installed\n",
    "# It is defined by the kaggle/python Docker image: https://github.com/kaggle/docker-python\n",
    "# For example, here's several helpful packages to load\n",
    "\n",
    "import numpy as np # linear algebra\n",
    "import pandas as pd # data processing, CSV file I/O (e.g. pd.read_csv)\n",
    "\n",
    "# Input data files are available in the read-only \"../input/\" directory\n",
    "# For example, running this (by clicking run or pressing Shift+Enter) will list all files under the input directory\n",
    "\n",
    "import os\n",
    "for dirname, _, filenames in os.walk('/kaggle/input'):\n",
    "    for filename in filenames:\n",
    "        print(os.path.join(dirname, filename))\n",
    "\n",
    "# You can write up to 20GB to the current directory (/kaggle/working/) that gets preserved as output when you create a version using \"Save & Run All\" \n",
    "# You can also write temporary files to /kaggle/temp/, but they won't be saved outside of the current session"
   ]
  },
  {
   "cell_type": "markdown",
   "id": "b3edabe8",
   "metadata": {
    "papermill": {
     "duration": 0.006331,
     "end_time": "2023-03-17T19:32:36.204637",
     "exception": false,
     "start_time": "2023-03-17T19:32:36.198306",
     "status": "completed"
    },
    "tags": []
   },
   "source": [
    "## Reading the Data"
   ]
  },
  {
   "cell_type": "code",
   "execution_count": 2,
   "id": "134d13c1",
   "metadata": {
    "execution": {
     "iopub.execute_input": "2023-03-17T19:32:36.220504Z",
     "iopub.status.busy": "2023-03-17T19:32:36.219235Z",
     "iopub.status.idle": "2023-03-17T19:32:36.234591Z",
     "shell.execute_reply": "2023-03-17T19:32:36.233584Z"
    },
    "papermill": {
     "duration": 0.026092,
     "end_time": "2023-03-17T19:32:36.237247",
     "exception": false,
     "start_time": "2023-03-17T19:32:36.211155",
     "status": "completed"
    },
    "tags": []
   },
   "outputs": [],
   "source": [
    "df=pd.read_csv(\"/kaggle/input/iris/Iris.csv\")"
   ]
  },
  {
   "cell_type": "markdown",
   "id": "eea25ed2",
   "metadata": {
    "papermill": {
     "duration": 0.006369,
     "end_time": "2023-03-17T19:32:36.250410",
     "exception": false,
     "start_time": "2023-03-17T19:32:36.244041",
     "status": "completed"
    },
    "tags": []
   },
   "source": [
    "## Checking the Data"
   ]
  },
  {
   "cell_type": "code",
   "execution_count": 3,
   "id": "b5da6588",
   "metadata": {
    "execution": {
     "iopub.execute_input": "2023-03-17T19:32:36.266081Z",
     "iopub.status.busy": "2023-03-17T19:32:36.265256Z",
     "iopub.status.idle": "2023-03-17T19:32:36.299691Z",
     "shell.execute_reply": "2023-03-17T19:32:36.298353Z"
    },
    "papermill": {
     "duration": 0.045511,
     "end_time": "2023-03-17T19:32:36.302562",
     "exception": false,
     "start_time": "2023-03-17T19:32:36.257051",
     "status": "completed"
    },
    "tags": []
   },
   "outputs": [
    {
     "data": {
      "text/html": [
       "<div>\n",
       "<style scoped>\n",
       "    .dataframe tbody tr th:only-of-type {\n",
       "        vertical-align: middle;\n",
       "    }\n",
       "\n",
       "    .dataframe tbody tr th {\n",
       "        vertical-align: top;\n",
       "    }\n",
       "\n",
       "    .dataframe thead th {\n",
       "        text-align: right;\n",
       "    }\n",
       "</style>\n",
       "<table border=\"1\" class=\"dataframe\">\n",
       "  <thead>\n",
       "    <tr style=\"text-align: right;\">\n",
       "      <th></th>\n",
       "      <th>Id</th>\n",
       "      <th>SepalLengthCm</th>\n",
       "      <th>SepalWidthCm</th>\n",
       "      <th>PetalLengthCm</th>\n",
       "      <th>PetalWidthCm</th>\n",
       "      <th>Species</th>\n",
       "    </tr>\n",
       "  </thead>\n",
       "  <tbody>\n",
       "    <tr>\n",
       "      <th>0</th>\n",
       "      <td>1</td>\n",
       "      <td>5.1</td>\n",
       "      <td>3.5</td>\n",
       "      <td>1.4</td>\n",
       "      <td>0.2</td>\n",
       "      <td>Iris-setosa</td>\n",
       "    </tr>\n",
       "    <tr>\n",
       "      <th>1</th>\n",
       "      <td>2</td>\n",
       "      <td>4.9</td>\n",
       "      <td>3.0</td>\n",
       "      <td>1.4</td>\n",
       "      <td>0.2</td>\n",
       "      <td>Iris-setosa</td>\n",
       "    </tr>\n",
       "    <tr>\n",
       "      <th>2</th>\n",
       "      <td>3</td>\n",
       "      <td>4.7</td>\n",
       "      <td>3.2</td>\n",
       "      <td>1.3</td>\n",
       "      <td>0.2</td>\n",
       "      <td>Iris-setosa</td>\n",
       "    </tr>\n",
       "    <tr>\n",
       "      <th>3</th>\n",
       "      <td>4</td>\n",
       "      <td>4.6</td>\n",
       "      <td>3.1</td>\n",
       "      <td>1.5</td>\n",
       "      <td>0.2</td>\n",
       "      <td>Iris-setosa</td>\n",
       "    </tr>\n",
       "    <tr>\n",
       "      <th>4</th>\n",
       "      <td>5</td>\n",
       "      <td>5.0</td>\n",
       "      <td>3.6</td>\n",
       "      <td>1.4</td>\n",
       "      <td>0.2</td>\n",
       "      <td>Iris-setosa</td>\n",
       "    </tr>\n",
       "    <tr>\n",
       "      <th>...</th>\n",
       "      <td>...</td>\n",
       "      <td>...</td>\n",
       "      <td>...</td>\n",
       "      <td>...</td>\n",
       "      <td>...</td>\n",
       "      <td>...</td>\n",
       "    </tr>\n",
       "    <tr>\n",
       "      <th>145</th>\n",
       "      <td>146</td>\n",
       "      <td>6.7</td>\n",
       "      <td>3.0</td>\n",
       "      <td>5.2</td>\n",
       "      <td>2.3</td>\n",
       "      <td>Iris-virginica</td>\n",
       "    </tr>\n",
       "    <tr>\n",
       "      <th>146</th>\n",
       "      <td>147</td>\n",
       "      <td>6.3</td>\n",
       "      <td>2.5</td>\n",
       "      <td>5.0</td>\n",
       "      <td>1.9</td>\n",
       "      <td>Iris-virginica</td>\n",
       "    </tr>\n",
       "    <tr>\n",
       "      <th>147</th>\n",
       "      <td>148</td>\n",
       "      <td>6.5</td>\n",
       "      <td>3.0</td>\n",
       "      <td>5.2</td>\n",
       "      <td>2.0</td>\n",
       "      <td>Iris-virginica</td>\n",
       "    </tr>\n",
       "    <tr>\n",
       "      <th>148</th>\n",
       "      <td>149</td>\n",
       "      <td>6.2</td>\n",
       "      <td>3.4</td>\n",
       "      <td>5.4</td>\n",
       "      <td>2.3</td>\n",
       "      <td>Iris-virginica</td>\n",
       "    </tr>\n",
       "    <tr>\n",
       "      <th>149</th>\n",
       "      <td>150</td>\n",
       "      <td>5.9</td>\n",
       "      <td>3.0</td>\n",
       "      <td>5.1</td>\n",
       "      <td>1.8</td>\n",
       "      <td>Iris-virginica</td>\n",
       "    </tr>\n",
       "  </tbody>\n",
       "</table>\n",
       "<p>150 rows × 6 columns</p>\n",
       "</div>"
      ],
      "text/plain": [
       "      Id  SepalLengthCm  SepalWidthCm  PetalLengthCm  PetalWidthCm  \\\n",
       "0      1            5.1           3.5            1.4           0.2   \n",
       "1      2            4.9           3.0            1.4           0.2   \n",
       "2      3            4.7           3.2            1.3           0.2   \n",
       "3      4            4.6           3.1            1.5           0.2   \n",
       "4      5            5.0           3.6            1.4           0.2   \n",
       "..   ...            ...           ...            ...           ...   \n",
       "145  146            6.7           3.0            5.2           2.3   \n",
       "146  147            6.3           2.5            5.0           1.9   \n",
       "147  148            6.5           3.0            5.2           2.0   \n",
       "148  149            6.2           3.4            5.4           2.3   \n",
       "149  150            5.9           3.0            5.1           1.8   \n",
       "\n",
       "            Species  \n",
       "0       Iris-setosa  \n",
       "1       Iris-setosa  \n",
       "2       Iris-setosa  \n",
       "3       Iris-setosa  \n",
       "4       Iris-setosa  \n",
       "..              ...  \n",
       "145  Iris-virginica  \n",
       "146  Iris-virginica  \n",
       "147  Iris-virginica  \n",
       "148  Iris-virginica  \n",
       "149  Iris-virginica  \n",
       "\n",
       "[150 rows x 6 columns]"
      ]
     },
     "execution_count": 3,
     "metadata": {},
     "output_type": "execute_result"
    }
   ],
   "source": [
    "df"
   ]
  },
  {
   "cell_type": "markdown",
   "id": "a1922310",
   "metadata": {
    "papermill": {
     "duration": 0.006705,
     "end_time": "2023-03-17T19:32:36.316335",
     "exception": false,
     "start_time": "2023-03-17T19:32:36.309630",
     "status": "completed"
    },
    "tags": []
   },
   "source": [
    "## Checking the Shape of the Data"
   ]
  },
  {
   "cell_type": "code",
   "execution_count": 4,
   "id": "e8b2d43a",
   "metadata": {
    "execution": {
     "iopub.execute_input": "2023-03-17T19:32:36.333825Z",
     "iopub.status.busy": "2023-03-17T19:32:36.332708Z",
     "iopub.status.idle": "2023-03-17T19:32:36.340722Z",
     "shell.execute_reply": "2023-03-17T19:32:36.339441Z"
    },
    "papermill": {
     "duration": 0.019887,
     "end_time": "2023-03-17T19:32:36.343116",
     "exception": false,
     "start_time": "2023-03-17T19:32:36.323229",
     "status": "completed"
    },
    "tags": []
   },
   "outputs": [
    {
     "data": {
      "text/plain": [
       "(150, 6)"
      ]
     },
     "execution_count": 4,
     "metadata": {},
     "output_type": "execute_result"
    }
   ],
   "source": [
    "df.shape"
   ]
  },
  {
   "cell_type": "markdown",
   "id": "ff66166c",
   "metadata": {
    "execution": {
     "iopub.execute_input": "2023-03-17T19:11:03.861657Z",
     "iopub.status.busy": "2023-03-17T19:11:03.861254Z",
     "iopub.status.idle": "2023-03-17T19:11:03.869446Z",
     "shell.execute_reply": "2023-03-17T19:11:03.867660Z",
     "shell.execute_reply.started": "2023-03-17T19:11:03.861623Z"
    },
    "papermill": {
     "duration": 0.006704,
     "end_time": "2023-03-17T19:32:36.356802",
     "exception": false,
     "start_time": "2023-03-17T19:32:36.350098",
     "status": "completed"
    },
    "tags": []
   },
   "source": [
    "The Dataset have 150 rows and 6 columns "
   ]
  },
  {
   "cell_type": "markdown",
   "id": "1536d023",
   "metadata": {
    "papermill": {
     "duration": 0.00678,
     "end_time": "2023-03-17T19:32:36.370550",
     "exception": false,
     "start_time": "2023-03-17T19:32:36.363770",
     "status": "completed"
    },
    "tags": []
   },
   "source": [
    "## Checking the info of the Data"
   ]
  },
  {
   "cell_type": "code",
   "execution_count": 5,
   "id": "8988d210",
   "metadata": {
    "execution": {
     "iopub.execute_input": "2023-03-17T19:32:36.386632Z",
     "iopub.status.busy": "2023-03-17T19:32:36.386220Z",
     "iopub.status.idle": "2023-03-17T19:32:36.411845Z",
     "shell.execute_reply": "2023-03-17T19:32:36.410919Z"
    },
    "papermill": {
     "duration": 0.036939,
     "end_time": "2023-03-17T19:32:36.414477",
     "exception": false,
     "start_time": "2023-03-17T19:32:36.377538",
     "status": "completed"
    },
    "tags": []
   },
   "outputs": [
    {
     "name": "stdout",
     "output_type": "stream",
     "text": [
      "<class 'pandas.core.frame.DataFrame'>\n",
      "RangeIndex: 150 entries, 0 to 149\n",
      "Data columns (total 6 columns):\n",
      " #   Column         Non-Null Count  Dtype  \n",
      "---  ------         --------------  -----  \n",
      " 0   Id             150 non-null    int64  \n",
      " 1   SepalLengthCm  150 non-null    float64\n",
      " 2   SepalWidthCm   150 non-null    float64\n",
      " 3   PetalLengthCm  150 non-null    float64\n",
      " 4   PetalWidthCm   150 non-null    float64\n",
      " 5   Species        150 non-null    object \n",
      "dtypes: float64(4), int64(1), object(1)\n",
      "memory usage: 7.2+ KB\n"
     ]
    }
   ],
   "source": [
    "df.info()"
   ]
  },
  {
   "cell_type": "markdown",
   "id": "9963c781",
   "metadata": {
    "papermill": {
     "duration": 0.00687,
     "end_time": "2023-03-17T19:32:36.428475",
     "exception": false,
     "start_time": "2023-03-17T19:32:36.421605",
     "status": "completed"
    },
    "tags": []
   },
   "source": [
    "This info analysis generally helps us in undestanding 3 major point. The index range, DataTypes of Features and Memory Usage of Data"
   ]
  },
  {
   "cell_type": "markdown",
   "id": "b7294b73",
   "metadata": {
    "papermill": {
     "duration": 0.006793,
     "end_time": "2023-03-17T19:32:36.443115",
     "exception": false,
     "start_time": "2023-03-17T19:32:36.436322",
     "status": "completed"
    },
    "tags": []
   },
   "source": [
    "## Checking the Describe feature"
   ]
  },
  {
   "cell_type": "code",
   "execution_count": 6,
   "id": "982309e2",
   "metadata": {
    "execution": {
     "iopub.execute_input": "2023-03-17T19:32:36.460328Z",
     "iopub.status.busy": "2023-03-17T19:32:36.459076Z",
     "iopub.status.idle": "2023-03-17T19:32:36.488310Z",
     "shell.execute_reply": "2023-03-17T19:32:36.486915Z"
    },
    "papermill": {
     "duration": 0.040457,
     "end_time": "2023-03-17T19:32:36.490969",
     "exception": false,
     "start_time": "2023-03-17T19:32:36.450512",
     "status": "completed"
    },
    "tags": []
   },
   "outputs": [
    {
     "data": {
      "text/html": [
       "<div>\n",
       "<style scoped>\n",
       "    .dataframe tbody tr th:only-of-type {\n",
       "        vertical-align: middle;\n",
       "    }\n",
       "\n",
       "    .dataframe tbody tr th {\n",
       "        vertical-align: top;\n",
       "    }\n",
       "\n",
       "    .dataframe thead th {\n",
       "        text-align: right;\n",
       "    }\n",
       "</style>\n",
       "<table border=\"1\" class=\"dataframe\">\n",
       "  <thead>\n",
       "    <tr style=\"text-align: right;\">\n",
       "      <th></th>\n",
       "      <th>Id</th>\n",
       "      <th>SepalLengthCm</th>\n",
       "      <th>SepalWidthCm</th>\n",
       "      <th>PetalLengthCm</th>\n",
       "      <th>PetalWidthCm</th>\n",
       "    </tr>\n",
       "  </thead>\n",
       "  <tbody>\n",
       "    <tr>\n",
       "      <th>count</th>\n",
       "      <td>150.000000</td>\n",
       "      <td>150.000000</td>\n",
       "      <td>150.000000</td>\n",
       "      <td>150.000000</td>\n",
       "      <td>150.000000</td>\n",
       "    </tr>\n",
       "    <tr>\n",
       "      <th>mean</th>\n",
       "      <td>75.500000</td>\n",
       "      <td>5.843333</td>\n",
       "      <td>3.054000</td>\n",
       "      <td>3.758667</td>\n",
       "      <td>1.198667</td>\n",
       "    </tr>\n",
       "    <tr>\n",
       "      <th>std</th>\n",
       "      <td>43.445368</td>\n",
       "      <td>0.828066</td>\n",
       "      <td>0.433594</td>\n",
       "      <td>1.764420</td>\n",
       "      <td>0.763161</td>\n",
       "    </tr>\n",
       "    <tr>\n",
       "      <th>min</th>\n",
       "      <td>1.000000</td>\n",
       "      <td>4.300000</td>\n",
       "      <td>2.000000</td>\n",
       "      <td>1.000000</td>\n",
       "      <td>0.100000</td>\n",
       "    </tr>\n",
       "    <tr>\n",
       "      <th>25%</th>\n",
       "      <td>38.250000</td>\n",
       "      <td>5.100000</td>\n",
       "      <td>2.800000</td>\n",
       "      <td>1.600000</td>\n",
       "      <td>0.300000</td>\n",
       "    </tr>\n",
       "    <tr>\n",
       "      <th>50%</th>\n",
       "      <td>75.500000</td>\n",
       "      <td>5.800000</td>\n",
       "      <td>3.000000</td>\n",
       "      <td>4.350000</td>\n",
       "      <td>1.300000</td>\n",
       "    </tr>\n",
       "    <tr>\n",
       "      <th>75%</th>\n",
       "      <td>112.750000</td>\n",
       "      <td>6.400000</td>\n",
       "      <td>3.300000</td>\n",
       "      <td>5.100000</td>\n",
       "      <td>1.800000</td>\n",
       "    </tr>\n",
       "    <tr>\n",
       "      <th>max</th>\n",
       "      <td>150.000000</td>\n",
       "      <td>7.900000</td>\n",
       "      <td>4.400000</td>\n",
       "      <td>6.900000</td>\n",
       "      <td>2.500000</td>\n",
       "    </tr>\n",
       "  </tbody>\n",
       "</table>\n",
       "</div>"
      ],
      "text/plain": [
       "               Id  SepalLengthCm  SepalWidthCm  PetalLengthCm  PetalWidthCm\n",
       "count  150.000000     150.000000    150.000000     150.000000    150.000000\n",
       "mean    75.500000       5.843333      3.054000       3.758667      1.198667\n",
       "std     43.445368       0.828066      0.433594       1.764420      0.763161\n",
       "min      1.000000       4.300000      2.000000       1.000000      0.100000\n",
       "25%     38.250000       5.100000      2.800000       1.600000      0.300000\n",
       "50%     75.500000       5.800000      3.000000       4.350000      1.300000\n",
       "75%    112.750000       6.400000      3.300000       5.100000      1.800000\n",
       "max    150.000000       7.900000      4.400000       6.900000      2.500000"
      ]
     },
     "execution_count": 6,
     "metadata": {},
     "output_type": "execute_result"
    }
   ],
   "source": [
    "df.describe()"
   ]
  },
  {
   "cell_type": "markdown",
   "id": "c1f4e8f3",
   "metadata": {
    "papermill": {
     "duration": 0.007094,
     "end_time": "2023-03-17T19:32:36.505465",
     "exception": false,
     "start_time": "2023-03-17T19:32:36.498371",
     "status": "completed"
    },
    "tags": []
   },
   "source": [
    "## Calculating the Mean"
   ]
  },
  {
   "cell_type": "code",
   "execution_count": 7,
   "id": "384251c2",
   "metadata": {
    "execution": {
     "iopub.execute_input": "2023-03-17T19:32:36.522449Z",
     "iopub.status.busy": "2023-03-17T19:32:36.522026Z",
     "iopub.status.idle": "2023-03-17T19:32:36.529208Z",
     "shell.execute_reply": "2023-03-17T19:32:36.528084Z"
    },
    "papermill": {
     "duration": 0.019001,
     "end_time": "2023-03-17T19:32:36.531770",
     "exception": false,
     "start_time": "2023-03-17T19:32:36.512769",
     "status": "completed"
    },
    "tags": []
   },
   "outputs": [
    {
     "data": {
      "text/plain": [
       "Index(['Id', 'SepalLengthCm', 'SepalWidthCm', 'PetalLengthCm', 'PetalWidthCm',\n",
       "       'Species'],\n",
       "      dtype='object')"
      ]
     },
     "execution_count": 7,
     "metadata": {},
     "output_type": "execute_result"
    }
   ],
   "source": [
    "df.columns"
   ]
  },
  {
   "cell_type": "code",
   "execution_count": 8,
   "id": "c3b4008e",
   "metadata": {
    "execution": {
     "iopub.execute_input": "2023-03-17T19:32:36.549016Z",
     "iopub.status.busy": "2023-03-17T19:32:36.548280Z",
     "iopub.status.idle": "2023-03-17T19:32:36.556139Z",
     "shell.execute_reply": "2023-03-17T19:32:36.555093Z"
    },
    "papermill": {
     "duration": 0.019454,
     "end_time": "2023-03-17T19:32:36.558617",
     "exception": false,
     "start_time": "2023-03-17T19:32:36.539163",
     "status": "completed"
    },
    "tags": []
   },
   "outputs": [
    {
     "data": {
      "text/plain": [
       "5.843333333333334"
      ]
     },
     "execution_count": 8,
     "metadata": {},
     "output_type": "execute_result"
    }
   ],
   "source": [
    "df.SepalLengthCm.mean()"
   ]
  },
  {
   "cell_type": "code",
   "execution_count": 9,
   "id": "b6fa73db",
   "metadata": {
    "execution": {
     "iopub.execute_input": "2023-03-17T19:32:36.576118Z",
     "iopub.status.busy": "2023-03-17T19:32:36.575395Z",
     "iopub.status.idle": "2023-03-17T19:32:36.583015Z",
     "shell.execute_reply": "2023-03-17T19:32:36.582049Z"
    },
    "papermill": {
     "duration": 0.018981,
     "end_time": "2023-03-17T19:32:36.585238",
     "exception": false,
     "start_time": "2023-03-17T19:32:36.566257",
     "status": "completed"
    },
    "tags": []
   },
   "outputs": [
    {
     "data": {
      "text/plain": [
       "5.843333333333334"
      ]
     },
     "execution_count": 9,
     "metadata": {},
     "output_type": "execute_result"
    }
   ],
   "source": [
    "df[\"SepalLengthCm\"].mean()"
   ]
  },
  {
   "cell_type": "code",
   "execution_count": 10,
   "id": "dea82aea",
   "metadata": {
    "execution": {
     "iopub.execute_input": "2023-03-17T19:32:36.602759Z",
     "iopub.status.busy": "2023-03-17T19:32:36.602056Z",
     "iopub.status.idle": "2023-03-17T19:32:36.610303Z",
     "shell.execute_reply": "2023-03-17T19:32:36.608979Z"
    },
    "papermill": {
     "duration": 0.01994,
     "end_time": "2023-03-17T19:32:36.612707",
     "exception": false,
     "start_time": "2023-03-17T19:32:36.592767",
     "status": "completed"
    },
    "tags": []
   },
   "outputs": [
    {
     "data": {
      "text/plain": [
       "5.8"
      ]
     },
     "execution_count": 10,
     "metadata": {},
     "output_type": "execute_result"
    }
   ],
   "source": [
    "df.SepalLengthCm.median()"
   ]
  },
  {
   "cell_type": "code",
   "execution_count": 11,
   "id": "ed661cbf",
   "metadata": {
    "execution": {
     "iopub.execute_input": "2023-03-17T19:32:36.630662Z",
     "iopub.status.busy": "2023-03-17T19:32:36.629911Z",
     "iopub.status.idle": "2023-03-17T19:32:36.640108Z",
     "shell.execute_reply": "2023-03-17T19:32:36.638843Z"
    },
    "papermill": {
     "duration": 0.02207,
     "end_time": "2023-03-17T19:32:36.642631",
     "exception": false,
     "start_time": "2023-03-17T19:32:36.620561",
     "status": "completed"
    },
    "tags": []
   },
   "outputs": [
    {
     "data": {
      "text/plain": [
       "0    5.0\n",
       "dtype: float64"
      ]
     },
     "execution_count": 11,
     "metadata": {},
     "output_type": "execute_result"
    }
   ],
   "source": [
    "df.SepalLengthCm.mode()"
   ]
  },
  {
   "cell_type": "markdown",
   "id": "ea7b7d36",
   "metadata": {
    "papermill": {
     "duration": 0.007781,
     "end_time": "2023-03-17T19:32:36.658437",
     "exception": false,
     "start_time": "2023-03-17T19:32:36.650656",
     "status": "completed"
    },
    "tags": []
   },
   "source": [
    "## Calculating Mean from Scratch"
   ]
  },
  {
   "cell_type": "code",
   "execution_count": 12,
   "id": "12f877bd",
   "metadata": {
    "execution": {
     "iopub.execute_input": "2023-03-17T19:32:36.676342Z",
     "iopub.status.busy": "2023-03-17T19:32:36.675613Z",
     "iopub.status.idle": "2023-03-17T19:32:36.683263Z",
     "shell.execute_reply": "2023-03-17T19:32:36.681885Z"
    },
    "papermill": {
     "duration": 0.020355,
     "end_time": "2023-03-17T19:32:36.686752",
     "exception": false,
     "start_time": "2023-03-17T19:32:36.666397",
     "status": "completed"
    },
    "tags": []
   },
   "outputs": [
    {
     "name": "stdout",
     "output_type": "stream",
     "text": [
      "Mean :  5.843333333333334\n"
     ]
    }
   ],
   "source": [
    "#calculating sum of all the values present in the column\n",
    "sum_values = df['SepalLengthCm'].sum()\n",
    "\n",
    "#checking the number of rows or values\n",
    "n_values = df['SepalLengthCm'].shape[0]\n",
    "\n",
    "#simply diving the sum by number of values \n",
    "mean_value = sum_values/n_values\n",
    "\n",
    "#printing the final result\n",
    "print(\"Mean : \", mean_value)"
   ]
  },
  {
   "cell_type": "markdown",
   "id": "efbb059d",
   "metadata": {
    "papermill": {
     "duration": 0.007576,
     "end_time": "2023-03-17T19:32:36.702891",
     "exception": false,
     "start_time": "2023-03-17T19:32:36.695315",
     "status": "completed"
    },
    "tags": []
   },
   "source": [
    "## Calculating Median from Scratch"
   ]
  },
  {
   "cell_type": "markdown",
   "id": "68e799aa",
   "metadata": {
    "papermill": {
     "duration": 0.009116,
     "end_time": "2023-03-17T19:32:36.719828",
     "exception": false,
     "start_time": "2023-03-17T19:32:36.710712",
     "status": "completed"
    },
    "tags": []
   },
   "source": [
    "So, As we know that the median is nothing but the middle value of Data when the Dataset is arranged in ascending or descending order"
   ]
  },
  {
   "cell_type": "code",
   "execution_count": 13,
   "id": "41e5fbfb",
   "metadata": {
    "execution": {
     "iopub.execute_input": "2023-03-17T19:32:36.738119Z",
     "iopub.status.busy": "2023-03-17T19:32:36.737196Z",
     "iopub.status.idle": "2023-03-17T19:32:36.746437Z",
     "shell.execute_reply": "2023-03-17T19:32:36.745031Z"
    },
    "papermill": {
     "duration": 0.02114,
     "end_time": "2023-03-17T19:32:36.748892",
     "exception": false,
     "start_time": "2023-03-17T19:32:36.727752",
     "status": "completed"
    },
    "tags": []
   },
   "outputs": [
    {
     "name": "stdout",
     "output_type": "stream",
     "text": [
      "Mean :  5.8\n"
     ]
    }
   ],
   "source": [
    "# calculate median from scratch\n",
    "ordered_values = df['SepalLengthCm'].sort_values().reset_index(drop = True)\n",
    "n_values = df['SepalLengthCm'].shape[0]\n",
    "\n",
    "if n_values % 2 == 0:\n",
    "    median1 = ordered_values[n_values//2]\n",
    "    median2 = ordered_values[n_values//2 - 1]\n",
    "    median_value = (median1 + median2)/2\n",
    "else:\n",
    "    median_value = ordered_values[n_values//2]\n",
    "\n",
    "print(\"Mean : \", median_value)"
   ]
  },
  {
   "cell_type": "markdown",
   "id": "01f215f1",
   "metadata": {
    "papermill": {
     "duration": 0.007514,
     "end_time": "2023-03-17T19:32:36.764388",
     "exception": false,
     "start_time": "2023-03-17T19:32:36.756874",
     "status": "completed"
    },
    "tags": []
   },
   "source": [
    "## Calculating Mode from Scratch"
   ]
  },
  {
   "cell_type": "code",
   "execution_count": 14,
   "id": "35b022fb",
   "metadata": {
    "execution": {
     "iopub.execute_input": "2023-03-17T19:32:36.782766Z",
     "iopub.status.busy": "2023-03-17T19:32:36.781890Z",
     "iopub.status.idle": "2023-03-17T19:32:36.790251Z",
     "shell.execute_reply": "2023-03-17T19:32:36.788296Z"
    },
    "papermill": {
     "duration": 0.021402,
     "end_time": "2023-03-17T19:32:36.793657",
     "exception": false,
     "start_time": "2023-03-17T19:32:36.772255",
     "status": "completed"
    },
    "tags": []
   },
   "outputs": [
    {
     "name": "stdout",
     "output_type": "stream",
     "text": [
      "Mode :  10\n"
     ]
    }
   ],
   "source": [
    "mode_value = df['SepalLengthCm'].value_counts().to_list()[0]\n",
    "print(\"Mode : \", mode_value)"
   ]
  }
 ],
 "metadata": {
  "kernelspec": {
   "display_name": "Python 3",
   "language": "python",
   "name": "python3"
  },
  "language_info": {
   "codemirror_mode": {
    "name": "ipython",
    "version": 3
   },
   "file_extension": ".py",
   "mimetype": "text/x-python",
   "name": "python",
   "nbconvert_exporter": "python",
   "pygments_lexer": "ipython3",
   "version": "3.7.12"
  },
  "papermill": {
   "default_parameters": {},
   "duration": 11.984286,
   "end_time": "2023-03-17T19:32:37.524897",
   "environment_variables": {},
   "exception": null,
   "input_path": "__notebook__.ipynb",
   "output_path": "__notebook__.ipynb",
   "parameters": {},
   "start_time": "2023-03-17T19:32:25.540611",
   "version": "2.4.0"
  }
 },
 "nbformat": 4,
 "nbformat_minor": 5
}
