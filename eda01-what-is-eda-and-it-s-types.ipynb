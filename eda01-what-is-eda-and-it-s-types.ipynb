{
 "cells": [
  {
   "cell_type": "markdown",
   "id": "4ca46590",
   "metadata": {
    "papermill": {
     "duration": 0.003034,
     "end_time": "2023-03-17T18:52:36.215963",
     "exception": false,
     "start_time": "2023-03-17T18:52:36.212929",
     "status": "completed"
    },
    "tags": []
   },
   "source": [
    "## Hello folks,This is [Shiva](https://www.linkedin.com/in/shivavashishtha/)!\n",
    "\n",
    "Data Analytics professional, Extensive experience with Excel, SQL, Python, Tableau, and Power BI, analyzing large datasets, and generating actionable insights. Exceptional problem solver and quick learner with extensive experience in a variety of data, domains, and D&A technologies. \n",
    "\n",
    "Welcome to this Notebook,This notebook is a part of our Data Orinted Program. Scrolldown the notebook to learn more about the concept. If you face any issues feel free to reach out to me over [Linkedin](https://www.linkedin.com/in/shivavashishtha/)\n",
    "\n",
    "\n",
    "<img align=\"center\" alt=\"GIF\" src=\"https://frogdesign.nyc3.cdn.digitaloceanspaces.com/wp-content/uploads/2020/08/04192430/AI_designing-with-data.gif\">\n",
    "<br>"
   ]
  },
  {
   "cell_type": "markdown",
   "id": "44ef959a",
   "metadata": {
    "papermill": {
     "duration": 0.001501,
     "end_time": "2023-03-17T18:52:36.219582",
     "exception": false,
     "start_time": "2023-03-17T18:52:36.218081",
     "status": "completed"
    },
    "tags": []
   },
   "source": [
    "<div class=\"alert alert-info\" style=\"background-color:#FFFFFF; color:#808080; padding:0px 10px; border-radius:5px;\" align=\"center\"><h1 style='margin:12px 5px'>Exploratory Data Analysis</h1>\n",
    "</div>"
   ]
  },
  {
   "cell_type": "markdown",
   "id": "02811df6",
   "metadata": {
    "papermill": {
     "duration": 0.001516,
     "end_time": "2023-03-17T18:52:36.222829",
     "exception": false,
     "start_time": "2023-03-17T18:52:36.221313",
     "status": "completed"
    },
    "tags": []
   },
   "source": [
    "EDA (Exploratory Data Analysis) is the process of analyzing and understanding data sets to uncover insights, patterns, and relationships in the data. It involves identifying and summarizing the main characteristics of the data, detecting outliers and anomalies, visualizing the data, and testing hypotheses about the relationships between different variables.\n",
    "\n",
    "Some common techniques used in EDA include statistical methods, data visualization, and machine learning algorithms. EDA is an essential step in data science because it helps data scientists to gain a deeper understanding of the data they are working with and to identify potential problems or opportunities that may not be apparent at first glance.\n",
    "\n",
    "Here are some examples of how EDA can be used in real-life scenarios:\n",
    "\n",
    "1. Retail Analysis:\n",
    "Suppose a retail store wants to improve its sales and profitability by analyzing its sales data. The store can use EDA to explore its sales data and identify patterns, trends, and correlations. This may include analyzing sales by product category, customer demographics, store location, and time of day or week. EDA can also identify the most profitable products, the most effective promotions, and the most profitable customer segments.\n",
    "\n",
    "2. Healthcare Analysis:\n",
    "A healthcare provider may want to use EDA to analyze patient data to identify risk factors for specific diseases or conditions. EDA can be used to identify patterns and correlations between different health conditions and lifestyle factors such as diet, exercise, and smoking. This analysis can help healthcare providers to develop more effective treatment plans and preventative strategies.\n",
    "\n",
    "3. Financial Analysis:\n",
    "A financial institution may use EDA to analyze its transaction data to identify potential fraud or anomalies. EDA can be used to identify unusual patterns in transactions, such as a large number of transactions from a single account or a sudden increase in transaction volume. This analysis can help the financial institution to detect and prevent fraud.\n",
    "\n",
    "4. Social Media Analysis:\n",
    "Social media companies can use EDA to analyze user behavior and engagement data to identify patterns and trends in user activity. This can include analyzing user demographics, the most popular types of content, and the most effective engagement strategies. This analysis can help social media companies to develop more effective marketing strategies and to improve user engagement and retention.\n",
    "\n",
    "In conclusion, EDA is a critical step in the data science process that can help organizations to identify valuable insights and opportunities in their data. It involves a range of techniques and tools that can be used to explore and visualize data, identify patterns and trends, and test hypotheses about the relationships between different variables.\n"
   ]
  },
  {
   "cell_type": "markdown",
   "id": "6ebc364b",
   "metadata": {
    "papermill": {
     "duration": 0.001474,
     "end_time": "2023-03-17T18:52:36.226008",
     "exception": false,
     "start_time": "2023-03-17T18:52:36.224534",
     "status": "completed"
    },
    "tags": []
   },
   "source": [
    "### Here are some types of EDA:\n",
    "\n",
    "1. Univariate Analysis: \n",
    "Univariate analysis is the simplest form of EDA and involves analyzing a single variable at a time. In univariate analysis, descriptive statistics such as measures of central tendency (mean, median, mode), measures of dispersion (standard deviation, range, interquartile range), and data visualizations (histograms, box plots, density plots) are used to summarize and explore the characteristics of the variable.\n",
    "\n",
    "2. Bivariate Analysis: \n",
    "Bivariate analysis involves analyzing the relationship between two variables. In bivariate analysis, scatter plots, line graphs, and correlation coefficients are used to explore the relationship between two variables.\n",
    "\n",
    "3. Multivariate Analysis: \n",
    "Multivariate analysis involves analyzing more than two variables simultaneously. In multivariate analysis, techniques such as principal component analysis (PCA), factor analysis, and cluster analysis are used to identify patterns and relationships among multiple variables.\n",
    "\n",
    "4. Time Series Analysis: \n",
    "Time series analysis involves analyzing data that changes over time. In time series analysis, techniques such as moving averages, trend analysis, and seasonal analysis are used to identify patterns and trends in the data.\n",
    "\n",
    "5. Text Analysis: \n",
    "Text analysis involves analyzing textual data such as customer reviews, social media posts, and news articles. In text analysis, techniques such as sentiment analysis, topic modeling, and keyword analysis are used to extract insights from the text data.\n",
    "\n",
    "In summary, EDA involves a range of techniques and tools that help data analysts gain insights into the data and identify areas for further investigation. Univariate analysis, bivariate analysis, multivariate analysis, time series analysis, and text analysis are some types of EDA that can be used to analyze different types of data.\n",
    "\n"
   ]
  }
 ],
 "metadata": {
  "kernelspec": {
   "display_name": "Python 3",
   "language": "python",
   "name": "python3"
  },
  "language_info": {
   "codemirror_mode": {
    "name": "ipython",
    "version": 3
   },
   "file_extension": ".py",
   "mimetype": "text/x-python",
   "name": "python",
   "nbconvert_exporter": "python",
   "pygments_lexer": "ipython3",
   "version": "3.7.12"
  },
  "papermill": {
   "default_parameters": {},
   "duration": 12.149283,
   "end_time": "2023-03-17T18:52:36.450564",
   "environment_variables": {},
   "exception": null,
   "input_path": "__notebook__.ipynb",
   "output_path": "__notebook__.ipynb",
   "parameters": {},
   "start_time": "2023-03-17T18:52:24.301281",
   "version": "2.4.0"
  }
 },
 "nbformat": 4,
 "nbformat_minor": 5
}
